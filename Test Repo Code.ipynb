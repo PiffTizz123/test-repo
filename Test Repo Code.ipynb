{
 "cells": [
  {
   "cell_type": "code",
   "execution_count": 4,
   "metadata": {},
   "outputs": [
    {
     "name": "stdout",
     "output_type": "stream",
     "text": [
      "your a Ugly Little Bannana\n"
     ]
    }
   ],
   "source": [
    "import random\n",
    "adjList1 = [\"Smelly\", \"discusting\", \"ugly\"]\n",
    "adjList2 = [\"juciy\", \"ittle\", \"fat\"]\n",
    "nounList= [\"baboon\", \"bannana\", \"pig\"]\n",
    "insult = random.choice(adjList1) + \" \"+ random.choice(adjList2) + \" \" + random.choice(nounList)\n",
    "print (\"Your a\", insult)\n"
   ]
  }
 ],
 "metadata": {
  "kernelspec": {
   "display_name": "Python 3",
   "language": "python",
   "name": "python3"
  },
  "language_info": {
   "codemirror_mode": {
    "name": "ipython",
    "version": 3
   },
   "file_extension": ".py",
   "mimetype": "text/x-python",
   "name": "python",
   "nbconvert_exporter": "python",
   "pygments_lexer": "ipython3",
   "version": "3.5.2"
  }
 },
 "nbformat": 4,
 "nbformat_minor": 2
}
